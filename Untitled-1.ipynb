{
 "cells": [
  {
   "cell_type": "code",
   "execution_count": 2,
   "metadata": {},
   "outputs": [
    {
     "name": "stdout",
     "output_type": "stream",
     "text": [
      "Filtered proxies have been written to proxy-list.txt\n"
     ]
    }
   ],
   "source": [
    "\n",
    "n =100000\n",
    "# Filter and format the proxies\n",
    "filtered_proxies = []\n",
    "\n",
    "with open('../socker/results_http.txt', 'r') as file:\n",
    "    lines = file.readlines()\n",
    "\n",
    "for line in lines[:n]:\n",
    "    if \"Active\" in line.split('\\t')[1]:\n",
    "        ip, port = line.split('\\t')[0].strip().split(':')\n",
    "        filtered_proxies.append(f'http://{ip}:{port}')\n",
    "\n",
    "with open('../socker/results_socks4.txt', 'r') as file:\n",
    "    lines = file.readlines()\n",
    "\n",
    "for line in lines[:n]:\n",
    "    if \"Active\" in line.split('\\t')[1]:\n",
    "        ip, port = line.split('\\t')[0].strip().split(':')\n",
    "        filtered_proxies.append(f'socks4://{ip}:{port}')\n",
    "\n",
    "\n",
    "# Read the contents of http.txt\n",
    "with open('../socker/results_socks5.txt', 'r') as file:\n",
    "    lines = file.readlines()\n",
    "\n",
    "for line in lines[:n]:\n",
    "    if \"Active\" in line.split('\\t')[1]:\n",
    "        ip, port = line.split('\\t')[0].strip().split(':')\n",
    "        filtered_proxies.append(f'socks5://{ip}:{port}')\n",
    "\n",
    "# Write the filtered proxies to proxy-list.txt\n",
    "with open('proxy-list.txt', 'w') as file:\n",
    "    for proxy in filtered_proxies:\n",
    "        file.write(proxy + '\\n')\n",
    "\n",
    "print(\"Filtered proxies have been written to proxy-list.txt\")\n"
   ]
  },
  {
   "cell_type": "code",
   "execution_count": 20,
   "metadata": {},
   "outputs": [],
   "source": []
  },
  {
   "cell_type": "code",
   "execution_count": 29,
   "metadata": {},
   "outputs": [],
   "source": []
  },
  {
   "cell_type": "code",
   "execution_count": null,
   "metadata": {},
   "outputs": [],
   "source": []
  }
 ],
 "metadata": {
  "kernelspec": {
   "display_name": ".venv",
   "language": "python",
   "name": "python3"
  },
  "language_info": {
   "codemirror_mode": {
    "name": "ipython",
    "version": 3
   },
   "file_extension": ".py",
   "mimetype": "text/x-python",
   "name": "python",
   "nbconvert_exporter": "python",
   "pygments_lexer": "ipython3",
   "version": "3.11.6"
  }
 },
 "nbformat": 4,
 "nbformat_minor": 2
}
