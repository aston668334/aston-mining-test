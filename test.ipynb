{
 "cells": [
  {
   "cell_type": "code",
   "execution_count": 1,
   "metadata": {},
   "outputs": [],
   "source": [
    "import asyncio\n",
    "import ssl\n",
    "import json\n",
    "import websockets\n",
    "from websockets_proxy import Proxy, proxy_connect\n",
    "import nest_asyncio\n",
    "\n",
    "# Apply the nest_asyncio patch\n",
    "nest_asyncio.apply()\n",
    "\n",
    "WEBSOCKET_URL = \"wss://nw.nodepay.ai:4576/websocket\"\n",
    "SERVER_HOSTNAME = \"nw.nodepay.ai\"\n",
    "PING_INTERVAL = 10000  # in milliseconds"
   ]
  },
  {
   "cell_type": "code",
   "execution_count": 6,
   "metadata": {},
   "outputs": [
    {
     "name": "stdout",
     "output_type": "stream",
     "text": [
      "Failed: Could not connect using proxy socks5://45.6.15.119:5678. Error: [Errno 104] Connection reset by peer\n"
     ]
    }
   ],
   "source": [
    "http_proxy = \"socks5://45.6.15.119:5678\"\n",
    "try:\n",
    "    proxy = Proxy.from_url(http_proxy)\n",
    "    custom_headers = {\n",
    "        \"User-Agent\": \"Mozilla/5.0 (Windows NT 10.0; Win64; x64) AppleWebKit/537.36 (KHTML, like Gecko) Chrome/119.0.0.0 Safari/537.36\"\n",
    "    }\n",
    "    ssl_context = ssl.create_default_context()\n",
    "    ssl_context.check_hostname = False\n",
    "    ssl_context.verify_mode = ssl.CERT_NONE\n",
    "    proxy = Proxy.from_url(http_proxy)\n",
    "    async with proxy_connect(WEBSOCKET_URL, proxy=proxy, ssl=ssl_context, server_hostname=SERVER_HOSTNAME,\n",
    "                                extra_headers=custom_headers) as websocket:\n",
    "        print(\"Connected to WebSocket\")\n",
    "except Exception as e:\n",
    "        print(f\"Failed: Could not connect using proxy {http_proxy}. Error: {e}\")\n"
   ]
  },
  {
   "cell_type": "code",
   "execution_count": null,
   "metadata": {},
   "outputs": [],
   "source": []
  },
  {
   "cell_type": "code",
   "execution_count": null,
   "metadata": {},
   "outputs": [
    {
     "name": "stdout",
     "output_type": "stream",
     "text": [
      "Failed to connect with proxy socks5://45.6.15.119:5678: [Errno 104] Connection reset by peer\n",
      "Proxy connection success: False\n"
     ]
    }
   ],
   "source": [
    "\n"
   ]
  },
  {
   "cell_type": "code",
   "execution_count": null,
   "metadata": {},
   "outputs": [],
   "source": []
  }
 ],
 "metadata": {
  "kernelspec": {
   "display_name": ".venv",
   "language": "python",
   "name": "python3"
  },
  "language_info": {
   "codemirror_mode": {
    "name": "ipython",
    "version": 3
   },
   "file_extension": ".py",
   "mimetype": "text/x-python",
   "name": "python",
   "nbconvert_exporter": "python",
   "pygments_lexer": "ipython3",
   "version": "3.11.6"
  }
 },
 "nbformat": 4,
 "nbformat_minor": 2
}
