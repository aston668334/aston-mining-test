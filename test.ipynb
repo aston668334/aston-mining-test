{
 "cells": [
  {
   "cell_type": "code",
   "execution_count": 7,
   "metadata": {},
   "outputs": [],
   "source": [
    "import asyncio\n",
    "import ssl\n",
    "import json\n",
    "import websockets\n",
    "from websockets_proxy import Proxy, proxy_connect\n",
    "import nest_asyncio\n",
    "import argparse\n",
    "import asyncio\n",
    "import random\n",
    "import signal\n",
    "import ssl\n",
    "import json\n",
    "import time\n",
    "import uuid\n",
    "from loguru import logger\n",
    "from websockets_proxy import Proxy, proxy_connect\n",
    "import os"
   ]
  },
  {
   "cell_type": "code",
   "execution_count": 8,
   "metadata": {},
   "outputs": [],
   "source": [
    "async def connect_to_wss(http_proxy, user_id):\n",
    "    device_id = str(uuid.uuid3(uuid.NAMESPACE_DNS, http_proxy))\n",
    "    logger.info(device_id)\n",
    "    while True:\n",
    "        try:\n",
    "            await asyncio.sleep(random.randint(1, 10) / 10)\n",
    "            custom_headers = {\n",
    "                \"User-Agent\": \"Mozilla/5.0 (Windows NT 10.0; Win64; x64) AppleWebKit/537.36 (KHTML, like Gecko) Chrome/119.0.0.0 Safari/537.36\"\n",
    "            }\n",
    "            ssl_context = ssl.create_default_context()\n",
    "            ssl_context.check_hostname = False\n",
    "            ssl_context.verify_mode = ssl.CERT_NONE\n",
    "            uri = \"wss://proxy.wynd.network:4650/\"\n",
    "            server_hostname = \"proxy.wynd.network\"\n",
    "            proxy = Proxy.from_url(http_proxy)\n",
    "            async with proxy_connect(uri, proxy=proxy, ssl=ssl_context, server_hostname=server_hostname,\n",
    "                                     extra_headers=custom_headers) as websocket:\n",
    "                async def send_ping():\n",
    "                    while True:\n",
    "                        send_message = json.dumps(\n",
    "                            {\"id\": str(uuid.uuid4()), \"version\": \"1.0.0\", \"action\": \"PING\", \"data\": {}})\n",
    "                        logger.debug(send_message)\n",
    "                        await websocket.send(send_message)\n",
    "                        await asyncio.sleep(20)\n",
    "\n",
    "                await asyncio.sleep(1)\n",
    "                asyncio.create_task(send_ping())\n",
    "\n",
    "                while True:\n",
    "                    response = await websocket.recv()\n",
    "                    message = json.loads(response)\n",
    "                    logger.info(message)\n",
    "                    if message.get(\"action\") == \"AUTH\":\n",
    "                        auth_response = {\n",
    "                            \"id\": message[\"id\"],\n",
    "                            \"origin_action\": \"AUTH\",\n",
    "                            \"result\": {\n",
    "                                \"browser_id\": device_id,\n",
    "                                \"user_id\": user_id,\n",
    "                                \"user_agent\": custom_headers['User-Agent'],\n",
    "                                \"timestamp\": int(time.time()),\n",
    "                                \"device_type\": \"extension\",\n",
    "                                \"version\": \"2.5.0\"\n",
    "                            }\n",
    "                        }\n",
    "                        logger.debug(auth_response)\n",
    "                        await websocket.send(json.dumps(auth_response))\n",
    "\n",
    "                    elif message.get(\"action\") == \"PONG\":\n",
    "                        pong_response = {\"id\": message[\"id\"], \"origin_action\": \"PONG\"}\n",
    "                        logger.debug(pong_response)\n",
    "                        await websocket.send(json.dumps(pong_response))\n",
    "        except asyncio.CancelledError:\n",
    "            logger.info(f\"Task for proxy {http_proxy} cancelled\")\n",
    "            break\n",
    "        except Exception as e:\n",
    "            logger.error(e)\n",
    "            logger.error(http_proxy)"
   ]
  },
  {
   "cell_type": "code",
   "execution_count": null,
   "metadata": {},
   "outputs": [],
   "source": []
  },
  {
   "cell_type": "code",
   "execution_count": 11,
   "metadata": {},
   "outputs": [
    {
     "ename": "RuntimeError",
     "evalue": "Cannot run the event loop while another loop is running",
     "output_type": "error",
     "traceback": [
      "\u001b[0;31m---------------------------------------------------------------------------\u001b[0m",
      "\u001b[0;31mRuntimeError\u001b[0m                              Traceback (most recent call last)",
      "Cell \u001b[0;32mIn[11], line 22\u001b[0m\n\u001b[1;32m     19\u001b[0m     loop\u001b[38;5;241m.\u001b[39mrun_until_complete(test_connect_to_wss(proxy_to_test, user_id))\n\u001b[1;32m     21\u001b[0m \u001b[38;5;66;03m# Call the function to run the event loop\u001b[39;00m\n\u001b[0;32m---> 22\u001b[0m \u001b[43mrun_coroutine\u001b[49m\u001b[43m(\u001b[49m\u001b[43m)\u001b[49m\n",
      "Cell \u001b[0;32mIn[11], line 19\u001b[0m, in \u001b[0;36mrun_coroutine\u001b[0;34m()\u001b[0m\n\u001b[1;32m     16\u001b[0m asyncio\u001b[38;5;241m.\u001b[39mset_event_loop(loop)\n\u001b[1;32m     18\u001b[0m \u001b[38;5;66;03m# Run the coroutine in the event loop\u001b[39;00m\n\u001b[0;32m---> 19\u001b[0m \u001b[43mloop\u001b[49m\u001b[38;5;241;43m.\u001b[39;49m\u001b[43mrun_until_complete\u001b[49m\u001b[43m(\u001b[49m\u001b[43mtest_connect_to_wss\u001b[49m\u001b[43m(\u001b[49m\u001b[43mproxy_to_test\u001b[49m\u001b[43m,\u001b[49m\u001b[43m \u001b[49m\u001b[43muser_id\u001b[49m\u001b[43m)\u001b[49m\u001b[43m)\u001b[49m\n",
      "File \u001b[0;32m/usr/lib/python3.11/asyncio/base_events.py:629\u001b[0m, in \u001b[0;36mBaseEventLoop.run_until_complete\u001b[0;34m(self, future)\u001b[0m\n\u001b[1;32m    618\u001b[0m \u001b[38;5;250m\u001b[39m\u001b[38;5;124;03m\"\"\"Run until the Future is done.\u001b[39;00m\n\u001b[1;32m    619\u001b[0m \n\u001b[1;32m    620\u001b[0m \u001b[38;5;124;03mIf the argument is a coroutine, it is wrapped in a Task.\u001b[39;00m\n\u001b[0;32m   (...)\u001b[0m\n\u001b[1;32m    626\u001b[0m \u001b[38;5;124;03mReturn the Future's result, or raise its exception.\u001b[39;00m\n\u001b[1;32m    627\u001b[0m \u001b[38;5;124;03m\"\"\"\u001b[39;00m\n\u001b[1;32m    628\u001b[0m \u001b[38;5;28mself\u001b[39m\u001b[38;5;241m.\u001b[39m_check_closed()\n\u001b[0;32m--> 629\u001b[0m \u001b[38;5;28;43mself\u001b[39;49m\u001b[38;5;241;43m.\u001b[39;49m\u001b[43m_check_running\u001b[49m\u001b[43m(\u001b[49m\u001b[43m)\u001b[49m\n\u001b[1;32m    631\u001b[0m new_task \u001b[38;5;241m=\u001b[39m \u001b[38;5;129;01mnot\u001b[39;00m futures\u001b[38;5;241m.\u001b[39misfuture(future)\n\u001b[1;32m    632\u001b[0m future \u001b[38;5;241m=\u001b[39m tasks\u001b[38;5;241m.\u001b[39mensure_future(future, loop\u001b[38;5;241m=\u001b[39m\u001b[38;5;28mself\u001b[39m)\n",
      "File \u001b[0;32m/usr/lib/python3.11/asyncio/base_events.py:590\u001b[0m, in \u001b[0;36mBaseEventLoop._check_running\u001b[0;34m(self)\u001b[0m\n\u001b[1;32m    588\u001b[0m     \u001b[38;5;28;01mraise\u001b[39;00m \u001b[38;5;167;01mRuntimeError\u001b[39;00m(\u001b[38;5;124m'\u001b[39m\u001b[38;5;124mThis event loop is already running\u001b[39m\u001b[38;5;124m'\u001b[39m)\n\u001b[1;32m    589\u001b[0m \u001b[38;5;28;01mif\u001b[39;00m events\u001b[38;5;241m.\u001b[39m_get_running_loop() \u001b[38;5;129;01mis\u001b[39;00m \u001b[38;5;129;01mnot\u001b[39;00m \u001b[38;5;28;01mNone\u001b[39;00m:\n\u001b[0;32m--> 590\u001b[0m     \u001b[38;5;28;01mraise\u001b[39;00m \u001b[38;5;167;01mRuntimeError\u001b[39;00m(\n\u001b[1;32m    591\u001b[0m         \u001b[38;5;124m'\u001b[39m\u001b[38;5;124mCannot run the event loop while another loop is running\u001b[39m\u001b[38;5;124m'\u001b[39m)\n",
      "\u001b[0;31mRuntimeError\u001b[0m: Cannot run the event loop while another loop is running"
     ]
    }
   ],
   "source": [
    "import asyncio\n",
    "\n",
    "async def test_connect_to_wss(http_proxy, user_id):\n",
    "    try:\n",
    "        await getgrass_proxy.connect_to_wss(http_proxy, user_id)\n",
    "    except Exception as e:\n",
    "        print(f\"Error occurred while testing proxy {http_proxy}: {e}\")\n",
    "\n",
    "# Example usage\n",
    "if __name__ == '__main__':\n",
    "    proxy_to_test = \"socks4://81.12.119.171:8080\"  # Replace with the proxy you want to test\n",
    "    user_id = \"\"  # Replace with your user ID\n",
    "    \n",
    "    # Run the coroutine in an event loop\n",
    "    asyncio.run(test_connect_to_wss(proxy_to_test, user_id))\n"
   ]
  },
  {
   "cell_type": "code",
   "execution_count": null,
   "metadata": {},
   "outputs": [],
   "source": []
  },
  {
   "cell_type": "code",
   "execution_count": null,
   "metadata": {},
   "outputs": [
    {
     "name": "stdout",
     "output_type": "stream",
     "text": [
      "Failed to connect with proxy socks5://45.6.15.119:5678: [Errno 104] Connection reset by peer\n",
      "Proxy connection success: False\n"
     ]
    }
   ],
   "source": [
    "\n"
   ]
  },
  {
   "cell_type": "code",
   "execution_count": null,
   "metadata": {},
   "outputs": [],
   "source": []
  }
 ],
 "metadata": {
  "kernelspec": {
   "display_name": ".venv",
   "language": "python",
   "name": "python3"
  },
  "language_info": {
   "codemirror_mode": {
    "name": "ipython",
    "version": 3
   },
   "file_extension": ".py",
   "mimetype": "text/x-python",
   "name": "python",
   "nbconvert_exporter": "python",
   "pygments_lexer": "ipython3",
   "version": "3.11.6"
  }
 },
 "nbformat": 4,
 "nbformat_minor": 2
}
